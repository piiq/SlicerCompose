{
 "cells": [
  {
   "cell_type": "markdown",
   "metadata": {},
   "source": [
    "# Data loading and visualization"
   ]
  },
  {
   "cell_type": "code",
   "execution_count": null,
   "metadata": {},
   "outputs": [],
   "source": [
    "import JupyterNotebooksLib as slicernb\n",
    "\n",
    "slicernb.showSliceViewAnnotations(False)"
   ]
  },
  {
   "cell_type": "code",
   "execution_count": null,
   "metadata": {},
   "outputs": [],
   "source": [
    "# Clear scene\n",
    "slicer.mrmlScene.Clear(False)\n",
    "\n",
    "# Load a Slicer sample data set\n",
    "import SampleData\n",
    "volume = SampleData.SampleDataLogic().downloadMRBrainTumor1()\n",
    "\n",
    "slicernb.showVolumeRendering(volume, show=True)\n",
    "\n",
    "app = slicernb.AppWindow()\n",
    "# \"404 : Not Found\" error is displayed if Jupyter desktop server is not configured\n",
    "# Show full application GUI\n",
    "app.setContents(\"viewers\")\n",
    "slicer.util.selectModule(\"SegmentEditor\")\n",
    "slicer.util.findChild(slicer.util.mainWindow(), \"PanelDockWidget\").show()\n",
    "app"
   ]
  },
  {
   "cell_type": "code",
   "execution_count": null,
   "metadata": {},
   "outputs": [],
   "source": []
  }
 ],
 "metadata": {
  "kernelspec": {
   "display_name": "Slicer 4.13",
   "language": "python",
   "name": "slicer-4.13"
  },
  "language_info": {
   "file_extension": ".py",
   "mimetype": "text/x-python",
   "name": "python",
   "version": "3.6.7"
  }
 },
 "nbformat": 4,
 "nbformat_minor": 4
}
